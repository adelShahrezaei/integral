{
 "cells": [
  {
   "cell_type": "code",
   "execution_count": 1,
   "metadata": {},
   "outputs": [],
   "source": [
    "import numpy as np\n",
    "import pandas as pd\n",
    "import math\n",
    "import pycuda.autoinit\n",
    "import pycuda.driver as cuda\n",
    "from pycuda.compiler import SourceModule"
   ]
  },
  {
   "cell_type": "code",
   "execution_count": null,
   "metadata": {},
   "outputs": [],
   "source": [
    "    "
   ]
  },
  {
   "cell_type": "code",
   "execution_count": 2,
   "metadata": {},
   "outputs": [
    {
     "name": "stderr",
     "output_type": "stream",
     "text": [
      "/home/shahrezaeima/anaconda3/envs/tensorflow/lib/python3.6/site-packages/ipykernel_launcher.py:32: UserWarning: The CUDA compiler succeeded, but said the following:\n",
      "kernel.cu(13): warning: variable \"t\" was declared but never referenced\n",
      "\n",
      "\n"
     ]
    }
   ],
   "source": [
    "mod = SourceModule(\"\"\"\n",
    "    #define N 1000\n",
    "    \n",
    "    \n",
    "  \n",
    "    \n",
    "    \n",
    "    __global__ void doIndexy(float *Z, int *indexx, int *indexy, float *pin, float *PYX,int total )\n",
    "    { \n",
    "        \n",
    "        int idx = blockIdx.x * blockDim.x + threadIdx.x; //this is actually j in indexy\n",
    "        int t = 0; \n",
    "        if(idx >= total){\n",
    "            return;\n",
    "        }\n",
    "        //printf(\"%d/n\", total);\n",
    "        float sum = 0;\n",
    "        int j = indexy[idx]; \n",
    "        for (int i = 0; i < total ;i++){\n",
    "           if(Z[indexx[i]+j-1]!=0.f){\n",
    "               sum += 0.05*0.05*Z[indexx[i]+j-1]*log2(Z[indexx[i]+j-1]);\n",
    "           }\n",
    "           \n",
    "           //printf(\"%d\\\\n\", Z[0]);\n",
    "        }; \n",
    "        //printf(\"%f/n\", sum);\n",
    "        PYX[idx] = sum; \n",
    "        \n",
    "        //printf (\"%d:::::::\\\\t\", idx);\n",
    "       \n",
    "       // in[idx*(d+1)+5]=integral(in[idx*(d+1)+0],in[idx*(d+1)+1], in[idx*(d+1)+2], in[idx*(d+1)+3], in[idx*(d+1)+4]);\n",
    "    }\"\"\")\n"
   ]
  },
  {
   "cell_type": "code",
   "execution_count": null,
   "metadata": {},
   "outputs": [],
   "source": [
    "# In[3]:\n",
    "# for benchmark\n",
    "start = cuda.Event()\n",
    "end = cuda.Event()"
   ]
  },
  {
   "cell_type": "code",
   "execution_count": 3,
   "metadata": {},
   "outputs": [],
   "source": [
    "func = mod.get_function(\"doIndexy\")"
   ]
  },
  {
   "cell_type": "code",
   "execution_count": 4,
   "metadata": {},
   "outputs": [],
   "source": [
    "inP_point=41\n",
    "obs_point=121\n",
    "Z_point=161\n",
    "bbin = 0.05\n"
   ]
  },
  {
   "cell_type": "code",
   "execution_count": 5,
   "metadata": {},
   "outputs": [],
   "source": [
    "# Z = np.random.randn(25,3)\n",
    "# Z = np.abs(Z)"
   ]
  },
  {
   "cell_type": "code",
   "execution_count": 6,
   "metadata": {},
   "outputs": [],
   "source": [
    "Z = pd.read_csv('input/savedist_3d_4_05.tsv',sep=' ',squeeze=True,header=None).values"
   ]
  },
  {
   "cell_type": "code",
   "execution_count": null,
   "metadata": {},
   "outputs": [],
   "source": []
  },
  {
   "cell_type": "code",
   "execution_count": 7,
   "metadata": {},
   "outputs": [],
   "source": [
    "# for N=3 \n",
    "def in_dist(a,b,tau=1):\n",
    "    ps = np.empty(len(a))\n",
    "    for i in range(len(a)):\n",
    "        if(b[i] >= a[i]):\n",
    "            ps[i] = (1/tau**2)*(math.exp(-1*b[i]/tau))\n",
    "        else: \n",
    "            ps[i] = 0\n",
    "    return ps\n",
    "            "
   ]
  },
  {
   "cell_type": "code",
   "execution_count": 35,
   "metadata": {},
   "outputs": [],
   "source": [
    "# for N=4\n",
    "def in_dist4(a,b,c,tau=1):\n",
    "    ps = np.empty(len(a))\n",
    "    for i in range(len(a)):\n",
    "        if(b[i] >= a[i] and c[i] >= a[i] and c[i] >= b[i]):\n",
    "            ps[i] = (1/tau**3)*(math.exp(-1*c[i]/tau))\n",
    "        else: \n",
    "            ps[i] = 0\n",
    "    return ps"
   ]
  },
  {
   "cell_type": "code",
   "execution_count": 8,
   "metadata": {},
   "outputs": [],
   "source": [
    "x, y = np.meshgrid([x for x in np.arange(0,inP_point*bbin,bbin)],[x for x in np.arange(0,inP_point*bbin,bbin)])\n",
    "# x, y = np.meshgrid([x for x in np.arange(0,2,1)],[x for x in np.arange(0,2,1)])"
   ]
  },
  {
   "cell_type": "code",
   "execution_count": 9,
   "metadata": {},
   "outputs": [],
   "source": [
    "t = y \n",
    "y = np.reshape(x,-1)\n",
    "x =np.reshape(t,-1)"
   ]
  },
  {
   "cell_type": "code",
   "execution_count": 10,
   "metadata": {},
   "outputs": [],
   "source": [
    "pin = in_dist(x,y, 0.5)\n",
    "pin = pin.T"
   ]
  },
  {
   "cell_type": "code",
   "execution_count": 11,
   "metadata": {},
   "outputs": [
    {
     "data": {
      "text/plain": [
       "1681"
      ]
     },
     "execution_count": 11,
     "metadata": {},
     "output_type": "execute_result"
    }
   ],
   "source": [
    "pin.size"
   ]
  },
  {
   "cell_type": "code",
   "execution_count": 12,
   "metadata": {},
   "outputs": [
    {
     "data": {
      "text/plain": [
       "array([ 4.        ,  3.61934967,  3.27492301, ...,  0.        ,\n",
       "        0.        ,  0.07326256])"
      ]
     },
     "execution_count": 12,
     "metadata": {},
     "output_type": "execute_result"
    }
   ],
   "source": [
    "pin"
   ]
  },
  {
   "cell_type": "code",
   "execution_count": 13,
   "metadata": {},
   "outputs": [],
   "source": [
    "indexy = np.array([],dtype=int)\n",
    "for k in range (1,inP_point+1):\n",
    "    a = [i for i in range(1+Z_point*(k-1),inP_point+1+Z_point*(k-1))] ### possible index error\n",
    "    \n",
    "    indexy =np.append(indexy,a)\n"
   ]
  },
  {
   "cell_type": "code",
   "execution_count": 14,
   "metadata": {},
   "outputs": [
    {
     "data": {
      "text/plain": [
       "121"
      ]
     },
     "execution_count": 14,
     "metadata": {},
     "output_type": "execute_result"
    }
   ],
   "source": [
    "obs_point"
   ]
  },
  {
   "cell_type": "code",
   "execution_count": 15,
   "metadata": {},
   "outputs": [
    {
     "data": {
      "text/plain": [
       "array([   1,    2,    3, ..., 6479, 6480, 6481])"
      ]
     },
     "execution_count": 15,
     "metadata": {},
     "output_type": "execute_result"
    }
   ],
   "source": [
    "indexy"
   ]
  },
  {
   "cell_type": "code",
   "execution_count": 16,
   "metadata": {},
   "outputs": [],
   "source": [
    "indexx = np.array([],dtype=int)\n",
    "for k in range (0,obs_point): \n",
    "    a = [i for i in range(Z_point*(k),Z_point*(k)+obs_point)] ### possible index error\n",
    "    \n",
    "    indexx =np.append(indexx,a)"
   ]
  },
  {
   "cell_type": "code",
   "execution_count": null,
   "metadata": {},
   "outputs": [],
   "source": []
  },
  {
   "cell_type": "code",
   "execution_count": 17,
   "metadata": {},
   "outputs": [
    {
     "data": {
      "text/plain": [
       "array([   1,    2,    3, ..., 6479, 6480, 6481])"
      ]
     },
     "execution_count": 17,
     "metadata": {},
     "output_type": "execute_result"
    }
   ],
   "source": [
    "indexy"
   ]
  },
  {
   "cell_type": "code",
   "execution_count": 18,
   "metadata": {},
   "outputs": [
    {
     "data": {
      "text/plain": [
       "array([ 6481,  6482,  6483, ..., 25919, 25920, 25921])"
      ]
     },
     "execution_count": 18,
     "metadata": {},
     "output_type": "execute_result"
    }
   ],
   "source": [
    "indexx+indexy[-1]"
   ]
  },
  {
   "cell_type": "code",
   "execution_count": 19,
   "metadata": {},
   "outputs": [],
   "source": [
    "PYX = np.empty(len(indexy),np.float32)\n",
    "PY = np.empty(len(indexx),np.float32)"
   ]
  },
  {
   "cell_type": "code",
   "execution_count": null,
   "metadata": {},
   "outputs": [],
   "source": []
  },
  {
   "cell_type": "code",
   "execution_count": 21,
   "metadata": {},
   "outputs": [
    {
     "data": {
      "text/plain": [
       "(25921,)"
      ]
     },
     "execution_count": 21,
     "metadata": {},
     "output_type": "execute_result"
    }
   ],
   "source": [
    "Z.shape"
   ]
  },
  {
   "cell_type": "code",
   "execution_count": 32,
   "metadata": {},
   "outputs": [
    {
     "name": "stderr",
     "output_type": "stream",
     "text": [
      "/home/shahrezaeima/anaconda3/envs/tensorflow/lib/python3.6/site-packages/ipykernel_launcher.py:5: RuntimeWarning: divide by zero encountered in log2\n",
      "  \"\"\"\n",
      "/home/shahrezaeima/anaconda3/envs/tensorflow/lib/python3.6/site-packages/ipykernel_launcher.py:5: RuntimeWarning: invalid value encountered in multiply\n",
      "  \"\"\"\n"
     ]
    }
   ],
   "source": [
    "count = 0\n",
    "for j in indexy:\n",
    "    A = Z[indexx+j-1]\n",
    "    \n",
    "    PYX [count] = 0.05*0.05*np.sum(A*np.log2(A))\n",
    "    count = count + 1"
   ]
  },
  {
   "cell_type": "code",
   "execution_count": 33,
   "metadata": {},
   "outputs": [],
   "source": [
    "count = 0\n",
    "for j in indexx:\n",
    "    B = Z[indexy+j-1]\n",
    "    PY [count] = 0.05*0.05*np.sum(B*pin)\n",
    "    count = count + 1"
   ]
  },
  {
   "cell_type": "code",
   "execution_count": 34,
   "metadata": {},
   "outputs": [
    {
     "data": {
      "text/plain": [
       "array([-3.10113311, -3.11224365, -3.12265515, ..., -3.3084693 ,\n",
       "       -3.30353832, -3.29769206], dtype=float32)"
      ]
     },
     "execution_count": 34,
     "metadata": {},
     "output_type": "execute_result"
    }
   ],
   "source": [
    "PYX"
   ]
  },
  {
   "cell_type": "code",
   "execution_count": 25,
   "metadata": {},
   "outputs": [
    {
     "data": {
      "text/plain": [
       "array([ 0.00693094,  0.00657916,  0.00618295, ...,  0.00146572,\n",
       "        0.0013967 ,  0.0013314 ], dtype=float32)"
      ]
     },
     "execution_count": 25,
     "metadata": {},
     "output_type": "execute_result"
    }
   ],
   "source": [
    "PY"
   ]
  },
  {
   "cell_type": "code",
   "execution_count": 26,
   "metadata": {},
   "outputs": [],
   "source": [
    "Z_2 = Z"
   ]
  },
  {
   "cell_type": "code",
   "execution_count": null,
   "metadata": {},
   "outputs": [],
   "source": [
    "\n",
    "\n",
    "\n"
   ]
  },
  {
   "cell_type": "code",
   "execution_count": 27,
   "metadata": {},
   "outputs": [],
   "source": [
    "d_Z_2 = cuda.mem_alloc(np.float32(Z_2).nbytes)\n",
    "cuda.memcpy_htod(d_Z_2, np.float32(Z_2))\n",
    "\n",
    "d_indexx = cuda.mem_alloc(np.int32(indexx).nbytes)\n",
    "cuda.memcpy_htod(d_indexx, np.int32(indexx))\n",
    "\n",
    "d_indexy = cuda.mem_alloc(np.int32(indexy).nbytes)\n",
    "cuda.memcpy_htod(d_indexy, np.int32(indexy))\n",
    "\n",
    "d_pin = cuda.mem_alloc(np.float32(pin).nbytes) \n",
    "cuda.memcpy_htod(d_pin, np.float32(pin))\n",
    "\n",
    "d_PYX = cuda.mem_alloc(np.float32(PYX).nbytes) \n",
    "cuda.memcpy_htod(d_PYX, np.float32(PYX))\n",
    "\n",
    "\n"
   ]
  },
  {
   "cell_type": "code",
   "execution_count": 28,
   "metadata": {},
   "outputs": [],
   "source": [
    "blocksize = 4\n",
    "gridsize = math.floor(len(indexy)/blocksize)+1\n",
    "func(d_Z_2, d_indexx, d_indexy, d_pin, d_PYX, np.int32(len(indexx)),  block=(blocksize,1,1), grid =(gridsize,1,1))"
   ]
  },
  {
   "cell_type": "code",
   "execution_count": 29,
   "metadata": {},
   "outputs": [],
   "source": [
    "h_test_out = np.zeros(len(indexy), np.float32)\n",
    "\n",
    "\n"
   ]
  },
  {
   "cell_type": "code",
   "execution_count": 30,
   "metadata": {},
   "outputs": [],
   "source": [
    "cuda.memcpy_dtoh(h_test_out, d_PYX)"
   ]
  },
  {
   "cell_type": "code",
   "execution_count": 31,
   "metadata": {},
   "outputs": [
    {
     "data": {
      "text/plain": [
       "array([-3.10109925, -3.11221051, -3.12262392, ..., -3.30840755,\n",
       "       -3.30347681, -3.29763055], dtype=float32)"
      ]
     },
     "execution_count": 31,
     "metadata": {},
     "output_type": "execute_result"
    }
   ],
   "source": [
    "h_test_out\n"
   ]
  },
  {
   "cell_type": "code",
   "execution_count": null,
   "metadata": {},
   "outputs": [],
   "source": [
    "pd.DataFrame(h_test_out)"
   ]
  },
  {
   "cell_type": "code",
   "execution_count": null,
   "metadata": {},
   "outputs": [],
   "source": []
  }
 ],
 "metadata": {
  "kernelspec": {
   "display_name": "Python 3",
   "language": "python",
   "name": "python3"
  },
  "language_info": {
   "codemirror_mode": {
    "name": "ipython",
    "version": 3
   },
   "file_extension": ".py",
   "mimetype": "text/x-python",
   "name": "python",
   "nbconvert_exporter": "python",
   "pygments_lexer": "ipython3",
   "version": "3.6.4"
  }
 },
 "nbformat": 4,
 "nbformat_minor": 2
}
