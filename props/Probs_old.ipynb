{
 "cells": [
  {
   "cell_type": "code",
   "execution_count": 1,
   "metadata": {},
   "outputs": [],
   "source": [
    "import numpy as np\n",
    "import pandas as pd\n",
    "import math\n",
    "import pycuda.autoinit\n",
    "import pycuda.driver as cuda\n",
    "from pycuda.compiler import SourceModule"
   ]
  },
  {
   "cell_type": "code",
   "execution_count": 2,
   "metadata": {},
   "outputs": [
    {
     "name": "stderr",
     "output_type": "stream",
     "text": [
      "/home/shahrezaeima/anaconda3/envs/tensorflow/lib/python3.6/site-packages/ipykernel_launcher.py:32: UserWarning: The CUDA compiler succeeded, but said the following:\n",
      "kernel.cu(13): warning: variable \"t\" was declared but never referenced\n",
      "\n",
      "\n"
     ]
    }
   ],
   "source": [
    "mod = SourceModule(\"\"\"\n",
    "    #define N 1000\n",
    "    \n",
    "    \n",
    "  \n",
    "    \n",
    "    \n",
    "    __global__ void doIndexy(float *Z, int *indexx, int *indexy, float *pin, float *PYX,int total )\n",
    "    { \n",
    "       \n",
    "        int idx = blockIdx.x * blockDim.x + threadIdx.x; //this is actually j in indexy\n",
    "        int t = 0; \n",
    "        if(idx >= total){\n",
    "            return;\n",
    "        }\n",
    "        //printf(\"%d/n\", total);\n",
    "        float sum = 0;\n",
    "        int j = indexy[idx]; \n",
    "        for (int i = 0; i < total ;i++){\n",
    "           //if(Z[indexx[i]+j]!=0.f){\n",
    "               sum += Z[indexx[i]+j]*log2(Z[indexx[i]+j]);\n",
    "           //}\n",
    "           \n",
    "           printf(\"%d\\\\n\", Z[0]);\n",
    "        }; \n",
    "        //printf(\"%f/n\", sum);\n",
    "        PYX[idx] = sum; \n",
    "        \n",
    "        //printf (\"%d:::::::\\\\t\", idx);\n",
    "       \n",
    "       // in[idx*(d+1)+5]=integral(in[idx*(d+1)+0],in[idx*(d+1)+1], in[idx*(d+1)+2], in[idx*(d+1)+3], in[idx*(d+1)+4]);\n",
    "    }\"\"\")\n"
   ]
  },
  {
   "cell_type": "code",
   "execution_count": 3,
   "metadata": {},
   "outputs": [],
   "source": [
    "func = mod.get_function(\"doIndexy\")\n"
   ]
  },
  {
   "cell_type": "code",
   "execution_count": 4,
   "metadata": {},
   "outputs": [],
   "source": [
    "Z = np.random.randn(25,3)\n",
    "Z = np.abs(Z)"
   ]
  },
  {
   "cell_type": "code",
   "execution_count": 5,
   "metadata": {},
   "outputs": [
    {
     "data": {
      "text/plain": [
       "array([[ 0.99813463,  0.86093625,  1.9598039 ],\n",
       "       [ 1.18013923,  0.25324364,  0.87328898],\n",
       "       [ 0.08020349,  1.51911916,  1.38996076],\n",
       "       [ 0.85149162,  1.62186049,  0.59641299],\n",
       "       [ 1.08906999,  1.29938762,  0.22550147],\n",
       "       [ 1.42626013,  0.64179578,  0.01514069],\n",
       "       [ 1.26575828,  0.55933667,  1.92368534],\n",
       "       [ 0.05316282,  2.09836495,  0.64975999],\n",
       "       [ 0.55214801,  1.18547271,  0.16522891],\n",
       "       [ 0.27231505,  1.46899591,  1.26272702],\n",
       "       [ 0.2799207 ,  1.41480321,  1.04845131],\n",
       "       [ 1.14918285,  0.12141603,  1.65641143],\n",
       "       [ 0.3961384 ,  0.47977233,  0.67813919],\n",
       "       [ 0.86923015,  1.68140873,  2.11712326],\n",
       "       [ 0.31432721,  0.4943301 ,  0.33686418],\n",
       "       [ 1.55365251,  0.74529244,  0.42242865],\n",
       "       [ 0.98248439,  0.16859014,  0.75575313],\n",
       "       [ 0.04003684,  0.17619586,  1.39815884],\n",
       "       [ 0.57649919,  0.41530866,  1.74095005],\n",
       "       [ 1.43885911,  0.71787172,  3.73404045],\n",
       "       [ 1.27636285,  0.30848062,  0.80783095],\n",
       "       [ 1.53999271,  0.22087478,  1.57021994],\n",
       "       [ 1.49544356,  0.56462059,  0.23472034],\n",
       "       [ 0.49113867,  0.86803383,  0.13984677],\n",
       "       [ 0.65966765,  0.96543394,  1.59138346]])"
      ]
     },
     "execution_count": 5,
     "metadata": {},
     "output_type": "execute_result"
    }
   ],
   "source": [
    "Z"
   ]
  },
  {
   "cell_type": "code",
   "execution_count": 6,
   "metadata": {},
   "outputs": [],
   "source": [
    "def in_dist(a,b,tau=1):\n",
    "    ps = np.empty(len(a))\n",
    "    for i in range(len(a)):\n",
    "        if(b[i] >= a[i]):\n",
    "            ps[i] = (1/tau**2)*(math.exp(-1*b[i]/tau))\n",
    "        else: \n",
    "            ps[i] = 0\n",
    "    return ps\n",
    "            "
   ]
  },
  {
   "cell_type": "code",
   "execution_count": 7,
   "metadata": {},
   "outputs": [],
   "source": [
    "# x, y = np.meshgrid([x for x in np.arange(0,2.05,0.05)],[x for x in np.arange(0,2.05,0.05)])\n",
    "x, y = np.meshgrid([x for x in np.arange(0,2,1)],[x for x in np.arange(0,2,1)])"
   ]
  },
  {
   "cell_type": "code",
   "execution_count": 8,
   "metadata": {},
   "outputs": [],
   "source": [
    "t = y \n",
    "y = np.reshape(x,-1)\n",
    "x =np.reshape(t,-1)"
   ]
  },
  {
   "cell_type": "code",
   "execution_count": 9,
   "metadata": {},
   "outputs": [],
   "source": [
    "pin = in_dist(x,y, 0.5)\n",
    "pin = pin.T"
   ]
  },
  {
   "cell_type": "code",
   "execution_count": 10,
   "metadata": {},
   "outputs": [
    {
     "data": {
      "text/plain": [
       "array([ 4.        ,  0.54134113,  0.        ,  0.54134113])"
      ]
     },
     "execution_count": 10,
     "metadata": {},
     "output_type": "execute_result"
    }
   ],
   "source": [
    "pin"
   ]
  },
  {
   "cell_type": "code",
   "execution_count": 11,
   "metadata": {},
   "outputs": [],
   "source": [
    "indexy = np.array([],dtype=int)\n",
    "for k in range (1,3):\n",
    "    \n",
    "    a = [i for i in range(1+5*(k-1),3+5*(k-1))] ### possible index error\n",
    "    \n",
    "    indexy =np.append(indexy,a)\n"
   ]
  },
  {
   "cell_type": "code",
   "execution_count": null,
   "metadata": {},
   "outputs": [],
   "source": []
  },
  {
   "cell_type": "code",
   "execution_count": 12,
   "metadata": {},
   "outputs": [
    {
     "name": "stdout",
     "output_type": "stream",
     "text": [
      "[0, 1, 2, 3]\n",
      "[5, 6, 7, 8]\n",
      "[10, 11, 12, 13]\n",
      "[15, 16, 17, 18]\n"
     ]
    }
   ],
   "source": [
    "indexx = np.array([],dtype=int)\n",
    "for k in range (0,4):\n",
    "    \n",
    "    a = [i for i in range(5*(k),5*(k)+4)] ### possible index error\n",
    "    print (a)\n",
    "    indexx =np.append(indexx,a)"
   ]
  },
  {
   "cell_type": "code",
   "execution_count": 13,
   "metadata": {},
   "outputs": [
    {
     "data": {
      "text/plain": [
       "array([ 6,  7,  8,  9, 11, 12, 13, 14, 16, 17, 18, 19, 21, 22, 23, 24])"
      ]
     },
     "execution_count": 13,
     "metadata": {},
     "output_type": "execute_result"
    }
   ],
   "source": [
    "indexx = indexx-1\n",
    "indexx+indexy[-1]"
   ]
  },
  {
   "cell_type": "code",
   "execution_count": 14,
   "metadata": {},
   "outputs": [
    {
     "data": {
      "text/plain": [
       "array([1, 2, 6, 7])"
      ]
     },
     "execution_count": 14,
     "metadata": {},
     "output_type": "execute_result"
    }
   ],
   "source": [
    "indexy"
   ]
  },
  {
   "cell_type": "code",
   "execution_count": 15,
   "metadata": {},
   "outputs": [
    {
     "data": {
      "text/plain": [
       "array([-1,  0,  1,  2,  4,  5,  6,  7,  9, 10, 11, 12, 14, 15, 16, 17])"
      ]
     },
     "execution_count": 15,
     "metadata": {},
     "output_type": "execute_result"
    }
   ],
   "source": [
    "indexx"
   ]
  },
  {
   "cell_type": "code",
   "execution_count": 16,
   "metadata": {},
   "outputs": [],
   "source": [
    "PYX = np.empty(len(indexy),np.float32)\n",
    "PY = np.empty(len(indexx),np.float32)"
   ]
  },
  {
   "cell_type": "code",
   "execution_count": null,
   "metadata": {},
   "outputs": [],
   "source": []
  },
  {
   "cell_type": "code",
   "execution_count": 17,
   "metadata": {},
   "outputs": [],
   "source": [
    "count = 0\n",
    "for j in indexy:\n",
    "    A = Z[indexx+j,2]\n",
    "    PYX [count] = 0.05*0.05*np.sum(A*np.log(A))\n",
    "    count = count + 1"
   ]
  },
  {
   "cell_type": "code",
   "execution_count": 18,
   "metadata": {},
   "outputs": [],
   "source": [
    "count = 0\n",
    "for j in indexx:\n",
    "    B = Z[indexy+j,2]\n",
    "    PY [count] = 0.05*0.05*np.sum(B*pin)\n",
    "    count = count + 1"
   ]
  },
  {
   "cell_type": "code",
   "execution_count": 19,
   "metadata": {},
   "outputs": [
    {
     "data": {
      "text/plain": [
       "array([ 0.0125888 ,  0.02151615,  0.00901642,  0.02435944], dtype=float32)"
      ]
     },
     "execution_count": 19,
     "metadata": {},
     "output_type": "execute_result"
    }
   ],
   "source": [
    "PYX"
   ]
  },
  {
   "cell_type": "code",
   "execution_count": 20,
   "metadata": {},
   "outputs": [
    {
     "data": {
      "text/plain": [
       "array([ 0.02338333,  0.01149335,  0.01493038,  0.00797823,  0.00499654,\n",
       "        0.02103397,  0.00958643,  0.0038171 ,  0.01374902,  0.01937408,\n",
       "        0.01200273,  0.0266806 ,  0.00737215,  0.00976739,  0.01652697,\n",
       "        0.02461668], dtype=float32)"
      ]
     },
     "execution_count": 20,
     "metadata": {},
     "output_type": "execute_result"
    }
   ],
   "source": [
    "PY"
   ]
  },
  {
   "cell_type": "code",
   "execution_count": 21,
   "metadata": {},
   "outputs": [],
   "source": [
    "Z_2 = Z[:,2]"
   ]
  },
  {
   "cell_type": "code",
   "execution_count": 30,
   "metadata": {},
   "outputs": [
    {
     "data": {
      "text/plain": [
       "array([ 1.95980394,  0.87328899,  1.38996077,  0.59641302,  0.22550146,\n",
       "        0.01514069,  1.92368531,  0.64976001,  0.16522892,  1.26272702,\n",
       "        1.0484513 ,  1.65641141,  0.67813921,  2.11712337,  0.33686417,\n",
       "        0.42242864,  0.75575316,  1.39815879,  1.74095011,  3.7340405 ,\n",
       "        0.80783093,  1.57021999,  0.23472033,  0.13984677,  1.59138346], dtype=float32)"
      ]
     },
     "execution_count": 30,
     "metadata": {},
     "output_type": "execute_result"
    }
   ],
   "source": [
    "\n",
    "\n",
    "\n"
   ]
  },
  {
   "cell_type": "code",
   "execution_count": 22,
   "metadata": {},
   "outputs": [],
   "source": [
    "d_Z_2 = cuda.mem_alloc(np.float32(Z_2).nbytes)\n",
    "cuda.memcpy_htod(d_Z_2, np.float32(Z_2))\n",
    "\n",
    "d_indexx = cuda.mem_alloc(np.int32(indexx).nbytes)\n",
    "cuda.memcpy_htod(d_indexx, np.int32(indexx))\n",
    "\n",
    "d_indexy = cuda.mem_alloc(np.int32(indexy).nbytes)\n",
    "cuda.memcpy_htod(d_indexy, np.int32(indexy))\n",
    "\n",
    "d_pin = cuda.mem_alloc(np.float32(pin).nbytes) \n",
    "cuda.memcpy_htod(d_pin, np.float32(pin))\n",
    "\n",
    "d_PYX = cuda.mem_alloc(np.float32(PYX).nbytes) \n",
    "cuda.memcpy_htod(d_PYX, np.float32(PYX))\n",
    "\n",
    "\n"
   ]
  },
  {
   "cell_type": "code",
   "execution_count": 23,
   "metadata": {},
   "outputs": [],
   "source": [
    "blocksize = 4\n",
    "gridsize = math.floor(len(indexy)/blocksize)+1\n",
    "func(d_Z_2, d_indexx, d_indexy, d_pin, d_PYX, np.int32(len(indexx)),  block=(blocksize,1,1), grid =(gridsize,1,1))"
   ]
  },
  {
   "cell_type": "code",
   "execution_count": 24,
   "metadata": {},
   "outputs": [
    {
     "data": {
      "text/plain": [
       "16"
      ]
     },
     "execution_count": 24,
     "metadata": {},
     "output_type": "execute_result"
    }
   ],
   "source": [
    "len(indexx)"
   ]
  },
  {
   "cell_type": "code",
   "execution_count": 25,
   "metadata": {},
   "outputs": [],
   "source": [
    "h_test_out = np.zeros(len(indexy), np.float32)\n",
    "\n",
    "\n"
   ]
  },
  {
   "cell_type": "code",
   "execution_count": 26,
   "metadata": {},
   "outputs": [],
   "source": [
    "cuda.memcpy_dtoh(h_test_out, d_PYX)"
   ]
  },
  {
   "cell_type": "code",
   "execution_count": 27,
   "metadata": {},
   "outputs": [
    {
     "data": {
      "text/plain": [
       "array([  7.26471806,  12.41649532,   5.20317841,  14.05729675], dtype=float32)"
      ]
     },
     "execution_count": 27,
     "metadata": {},
     "output_type": "execute_result"
    }
   ],
   "source": [
    "h_test_out\n"
   ]
  },
  {
   "cell_type": "code",
   "execution_count": 28,
   "metadata": {},
   "outputs": [
    {
     "data": {
      "text/html": [
       "<div>\n",
       "<style scoped>\n",
       "    .dataframe tbody tr th:only-of-type {\n",
       "        vertical-align: middle;\n",
       "    }\n",
       "\n",
       "    .dataframe tbody tr th {\n",
       "        vertical-align: top;\n",
       "    }\n",
       "\n",
       "    .dataframe thead th {\n",
       "        text-align: right;\n",
       "    }\n",
       "</style>\n",
       "<table border=\"1\" class=\"dataframe\">\n",
       "  <thead>\n",
       "    <tr style=\"text-align: right;\">\n",
       "      <th></th>\n",
       "      <th>0</th>\n",
       "    </tr>\n",
       "  </thead>\n",
       "  <tbody>\n",
       "    <tr>\n",
       "      <th>0</th>\n",
       "      <td>7.264718</td>\n",
       "    </tr>\n",
       "    <tr>\n",
       "      <th>1</th>\n",
       "      <td>12.416495</td>\n",
       "    </tr>\n",
       "    <tr>\n",
       "      <th>2</th>\n",
       "      <td>5.203178</td>\n",
       "    </tr>\n",
       "    <tr>\n",
       "      <th>3</th>\n",
       "      <td>14.057297</td>\n",
       "    </tr>\n",
       "  </tbody>\n",
       "</table>\n",
       "</div>"
      ],
      "text/plain": [
       "           0\n",
       "0   7.264718\n",
       "1  12.416495\n",
       "2   5.203178\n",
       "3  14.057297"
      ]
     },
     "execution_count": 28,
     "metadata": {},
     "output_type": "execute_result"
    }
   ],
   "source": [
    "pd.DataFrame(h_test_out)"
   ]
  },
  {
   "cell_type": "code",
   "execution_count": null,
   "metadata": {},
   "outputs": [],
   "source": []
  }
 ],
 "metadata": {
  "kernelspec": {
   "display_name": "Python (tf)",
   "language": "python",
   "name": "tensorflow"
  },
  "language_info": {
   "codemirror_mode": {
    "name": "ipython",
    "version": 3
   },
   "file_extension": ".py",
   "mimetype": "text/x-python",
   "name": "python",
   "nbconvert_exporter": "python",
   "pygments_lexer": "ipython3",
   "version": "3.6.4"
  }
 },
 "nbformat": 4,
 "nbformat_minor": 2
}
